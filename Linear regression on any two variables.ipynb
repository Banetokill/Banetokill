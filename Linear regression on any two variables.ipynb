{
 "cells": [
  {
   "cell_type": "code",
   "execution_count": 3,
   "id": "373d219b",
   "metadata": {},
   "outputs": [],
   "source": [
    "import numpy as np\n",
    "import pandas as pd"
   ]
  },
  {
   "cell_type": "code",
   "execution_count": 10,
   "id": "2287c5bf",
   "metadata": {},
   "outputs": [
    {
     "data": {
      "text/plain": [
       "array([[1.00000000e+00, 1.79526864e+02, 1.79607427e+02, ...,\n",
       "        9.87907710e-02, 1.14603838e-01, 1.96946869e-01],\n",
       "       [2.00000000e+00, 1.79984690e+02, 1.79803625e+02, ...,\n",
       "        4.78127970e-02, 4.21142730e-02, 8.76665700e-02],\n",
       "       [3.00000000e+00, 1.79697453e+02, 1.79948002e+02, ...,\n",
       "        4.21505580e-02, 1.11820050e-02, 3.52756690e-02],\n",
       "       ...,\n",
       "       [1.59000000e+02, 1.55447118e+02, 1.73464271e+02, ...,\n",
       "        2.16916022e-01, 4.60127264e-01, 6.82056795e-01],\n",
       "       [1.60000000e+02, 1.52604221e+02, 1.71771049e+02, ...,\n",
       "        2.40841038e-01, 4.73904219e-01, 4.90302267e-01],\n",
       "       [1.61000000e+02, 1.52036630e+02, 1.71377263e+02, ...,\n",
       "        8.92595730e-02, 2.35500196e-01, 1.88280585e-01]])"
      ]
     },
     "execution_count": 10,
     "metadata": {},
     "output_type": "execute_result"
    }
   ],
   "source": [
    "data = np.loadtxt(\"pose_ed.csv\",delimiter = \",\")\n",
    "data"
   ]
  },
  {
   "cell_type": "code",
   "execution_count": 42,
   "id": "df1ddf3e",
   "metadata": {},
   "outputs": [],
   "source": [
    "x = data[:,4].reshape(-1,1)\n",
    "y = data[:,5].reshape(-1,1)"
   ]
  },
  {
   "cell_type": "code",
   "execution_count": 43,
   "id": "32bfd744",
   "metadata": {},
   "outputs": [],
   "source": [
    "from sklearn import model_selection\n",
    "X_train,X_test,Y_train,Y_test = model_selection.train_test_split(x,y)"
   ]
  },
  {
   "cell_type": "code",
   "execution_count": 44,
   "id": "63b9feeb",
   "metadata": {},
   "outputs": [],
   "source": [
    "from sklearn.linear_model import LinearRegression\n",
    "alg1 = LinearRegression()"
   ]
  },
  {
   "cell_type": "code",
   "execution_count": 45,
   "id": "19e72dc3",
   "metadata": {},
   "outputs": [
    {
     "data": {
      "text/plain": [
       "LinearRegression()"
      ]
     },
     "execution_count": 45,
     "metadata": {},
     "output_type": "execute_result"
    }
   ],
   "source": [
    "alg1.fit(X_train,Y_train)"
   ]
  },
  {
   "cell_type": "code",
   "execution_count": 46,
   "id": "f26ecc69",
   "metadata": {},
   "outputs": [
    {
     "data": {
      "text/plain": [
       "array([0.60853777])"
      ]
     },
     "execution_count": 46,
     "metadata": {},
     "output_type": "execute_result"
    }
   ],
   "source": [
    "m = alg1.coef_[0]\n",
    "m"
   ]
  },
  {
   "cell_type": "code",
   "execution_count": 47,
   "id": "e6aef5ce",
   "metadata": {},
   "outputs": [
    {
     "data": {
      "text/plain": [
       "array([0.13410573])"
      ]
     },
     "execution_count": 47,
     "metadata": {},
     "output_type": "execute_result"
    }
   ],
   "source": [
    "c = alg1.intercept_\n",
    "c"
   ]
  },
  {
   "cell_type": "code",
   "execution_count": 48,
   "id": "0b87da18",
   "metadata": {},
   "outputs": [
    {
     "data": {
      "text/plain": [
       "array([[0.16450529],\n",
       "       [0.87192869],\n",
       "       [0.15687194],\n",
       "       [1.04637316],\n",
       "       [0.20841908],\n",
       "       [0.1381394 ],\n",
       "       [1.44232481],\n",
       "       [0.25897856],\n",
       "       [0.1472336 ],\n",
       "       [0.15058475],\n",
       "       [0.14156921],\n",
       "       [0.16119912],\n",
       "       [3.29353707],\n",
       "       [0.15231871],\n",
       "       [0.18142348],\n",
       "       [1.00489965],\n",
       "       [0.72803579],\n",
       "       [0.26619764],\n",
       "       [0.21026083],\n",
       "       [3.43437476],\n",
       "       [0.13935914],\n",
       "       [0.18827309],\n",
       "       [0.14119577],\n",
       "       [0.20067913],\n",
       "       [0.16024406],\n",
       "       [0.17278563],\n",
       "       [0.19596176],\n",
       "       [0.19752166],\n",
       "       [0.16699003],\n",
       "       [0.23239604],\n",
       "       [0.15819073],\n",
       "       [0.28748179],\n",
       "       [0.25198975],\n",
       "       [0.24633375],\n",
       "       [0.17663514],\n",
       "       [0.21771025],\n",
       "       [0.48394741],\n",
       "       [1.56488205],\n",
       "       [0.14155878],\n",
       "       [1.05853434],\n",
       "       [0.2708989 ]])"
      ]
     },
     "execution_count": 48,
     "metadata": {},
     "output_type": "execute_result"
    }
   ],
   "source": [
    "Y_pred = alg1.predict(X_test)\n",
    "Y_pred"
   ]
  },
  {
   "cell_type": "code",
   "execution_count": 49,
   "id": "d1dd8311",
   "metadata": {},
   "outputs": [],
   "source": [
    "import matplotlib.pyplot as plt"
   ]
  },
  {
   "cell_type": "code",
   "execution_count": 51,
   "id": "3fcfd0bd",
   "metadata": {},
   "outputs": [
    {
     "data": {
      "text/plain": [
       "[<matplotlib.lines.Line2D at 0x2182e024f40>]"
      ]
     },
     "execution_count": 51,
     "metadata": {},
     "output_type": "execute_result"
    },
    {
     "data": {
      "image/png": "[encoded data removed]",
      "text/plain": [
       "<Figure size 640x480 with 1 Axes>"
      ]
     },
     "metadata": {},
     "output_type": "display_data"
    }
   ],
   "source": [
    "plt.scatter(Y_pred,Y_test)\n",
    "x_line = np.arange(0,3.5,0.1)\n",
    "y_line = m*x_line+c\n",
    "plt.plot(x_line,y_line)"
   ]
  },
  {
   "cell_type": "code",
   "execution_count": 52,
   "id": "d93dcb13",
   "metadata": {},
   "outputs": [],
   "source": [
    "def fit(X_train,Y_train):\n",
    "    num = (X_train*Y_train).mean()-X_train.mean()*Y_train.mean()\n",
    "    den = (X_train**2).mean()-X_train.mean()**2\n",
    "    m = num/den\n",
    "    c = Y_train.mean() - m*X_train.mean()\n",
    "    return m,c"
   ]
  },
  {
   "cell_type": "code",
   "execution_count": 53,
   "id": "e0736b2c",
   "metadata": {},
   "outputs": [],
   "source": [
    "def predict(x,m,c) :\n",
    "    return m*x + c"
   ]
  },
  {
   "cell_type": "code",
   "execution_count": 54,
   "id": "bf67ad83",
   "metadata": {},
   "outputs": [],
   "source": [
    "def score(y_truth,y_pred):\n",
    "    u = ((y_truth-y_pred)**2).sum()\n",
    "    v = ((y_truth-y_truth.mean())**2).sum()\n",
    "    return 1-u/v"
   ]
  },
  {
   "cell_type": "code",
   "execution_count": 55,
   "id": "2e7362a9",
   "metadata": {},
   "outputs": [
    {
     "name": "stdout",
     "output_type": "stream",
     "text": [
      "0.33287654076662837\n"
     ]
    }
   ],
   "source": [
    "def cost(x,y,m,c) :\n",
    "    return ((y-m*x+c)**2).mean()\n",
    "C_1 = cost(X_test,Y_test,m,c)\n",
    "print(C_1)"
   ]
  },
  {
   "cell_type": "code",
   "execution_count": 56,
   "id": "24eaab40",
   "metadata": {},
   "outputs": [
    {
     "name": "stdout",
     "output_type": "stream",
     "text": [
      "-0.2631794824525704\n",
      "0.7285157630558015\n",
      "[0.60853777] [0.13410573]\n"
     ]
    }
   ],
   "source": [
    "#test data\n",
    "y_pred = predict(X_test,m,c)\n",
    "print(score(Y_test,y_pred))\n",
    "#train data \n",
    "y_train_pred = predict(X_train,m,c)\n",
    "print(score(Y_train,y_train_pred))\n",
    "print(m,c)"
   ]
  },
  {
   "cell_type": "code",
   "execution_count": null,
   "id": "db7fa192",
   "metadata": {},
   "outputs": [],
   "source": []
  }
 ],
 "metadata": {
  "kernelspec": {
   "display_name": "Python 3 (ipykernel)",
   "language": "python",
   "name": "python3"
  },
  "language_info": {
   "codemirror_mode": {
    "name": "ipython",
    "version": 3
   },
   "file_extension": ".py",
   "mimetype": "text/x-python",
   "name": "python",
   "nbconvert_exporter": "python",
   "pygments_lexer": "ipython3",
   "version": "3.9.13"
  }
 },
 "nbformat": 4,
 "nbformat_minor": 5
}
