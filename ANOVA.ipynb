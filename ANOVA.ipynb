{
 "cells": [
  {
   "cell_type": "code",
   "execution_count": 10,
   "id": "4d95798e",
   "metadata": {},
   "outputs": [
    {
     "name": "stdout",
     "output_type": "stream",
     "text": [
      "Collecting pingouin\n",
      "  Downloading pingouin-0.5.3-py3-none-any.whl (198 kB)\n",
      "     ------------------------------------ 198.6/198.6 kB 710.7 kB/s eta 0:00:00\n",
      "Requirement already satisfied: seaborn>=0.11 in c:\\anaconda\\lib\\site-packages (from pingouin) (0.11.2)\n",
      "Requirement already satisfied: tabulate in c:\\anaconda\\lib\\site-packages (from pingouin) (0.8.10)\n",
      "Requirement already satisfied: numpy>=1.19 in c:\\anaconda\\lib\\site-packages (from pingouin) (1.21.5)\n",
      "Collecting outdated\n",
      "  Downloading outdated-0.2.2-py2.py3-none-any.whl (7.5 kB)\n",
      "Requirement already satisfied: statsmodels>=0.13 in c:\\anaconda\\lib\\site-packages (from pingouin) (0.13.2)\n",
      "Requirement already satisfied: scikit-learn in c:\\anaconda\\lib\\site-packages (from pingouin) (1.0.2)\n",
      "Requirement already satisfied: matplotlib>=3.0.2 in c:\\anaconda\\lib\\site-packages (from pingouin) (3.5.2)\n",
      "Requirement already satisfied: pandas>=1.0 in c:\\anaconda\\lib\\site-packages (from pingouin) (1.4.4)\n",
      "Collecting pandas-flavor>=0.2.0\n",
      "  Downloading pandas_flavor-0.6.0-py3-none-any.whl (7.2 kB)\n",
      "Requirement already satisfied: scipy>=1.7 in c:\\anaconda\\lib\\site-packages (from pingouin) (1.9.1)\n",
      "Requirement already satisfied: fonttools>=4.22.0 in c:\\anaconda\\lib\\site-packages (from matplotlib>=3.0.2->pingouin) (4.25.0)\n",
      "Requirement already satisfied: python-dateutil>=2.7 in c:\\anaconda\\lib\\site-packages (from matplotlib>=3.0.2->pingouin) (2.8.2)\n",
      "Requirement already satisfied: packaging>=20.0 in c:\\anaconda\\lib\\site-packages (from matplotlib>=3.0.2->pingouin) (21.3)\n",
      "Requirement already satisfied: kiwisolver>=1.0.1 in c:\\anaconda\\lib\\site-packages (from matplotlib>=3.0.2->pingouin) (1.4.2)\n",
      "Requirement already satisfied: pyparsing>=2.2.1 in c:\\anaconda\\lib\\site-packages (from matplotlib>=3.0.2->pingouin) (3.0.9)\n",
      "Requirement already satisfied: pillow>=6.2.0 in c:\\anaconda\\lib\\site-packages (from matplotlib>=3.0.2->pingouin) (9.2.0)\n",
      "Requirement already satisfied: cycler>=0.10 in c:\\anaconda\\lib\\site-packages (from matplotlib>=3.0.2->pingouin) (0.11.0)\n",
      "Requirement already satisfied: pytz>=2020.1 in c:\\anaconda\\lib\\site-packages (from pandas>=1.0->pingouin) (2022.1)\n",
      "Requirement already satisfied: xarray in c:\\anaconda\\lib\\site-packages (from pandas-flavor>=0.2.0->pingouin) (0.20.1)\n",
      "Requirement already satisfied: patsy>=0.5.2 in c:\\anaconda\\lib\\site-packages (from statsmodels>=0.13->pingouin) (0.5.2)\n",
      "Collecting littleutils\n",
      "  Downloading littleutils-0.2.2.tar.gz (6.6 kB)\n",
      "  Preparing metadata (setup.py): started\n",
      "  Preparing metadata (setup.py): finished with status 'done'\n",
      "Requirement already satisfied: setuptools>=44 in c:\\anaconda\\lib\\site-packages (from outdated->pingouin) (63.4.1)\n",
      "Requirement already satisfied: requests in c:\\anaconda\\lib\\site-packages (from outdated->pingouin) (2.28.1)\n",
      "Requirement already satisfied: joblib>=0.11 in c:\\anaconda\\lib\\site-packages (from scikit-learn->pingouin) (1.1.0)\n",
      "Requirement already satisfied: threadpoolctl>=2.0.0 in c:\\anaconda\\lib\\site-packages (from scikit-learn->pingouin) (2.2.0)\n",
      "Requirement already satisfied: six in c:\\anaconda\\lib\\site-packages (from patsy>=0.5.2->statsmodels>=0.13->pingouin) (1.16.0)\n",
      "Requirement already satisfied: charset-normalizer<3,>=2 in c:\\anaconda\\lib\\site-packages (from requests->outdated->pingouin) (2.0.4)\n",
      "Requirement already satisfied: urllib3<1.27,>=1.21.1 in c:\\anaconda\\lib\\site-packages (from requests->outdated->pingouin) (1.26.11)\n",
      "Requirement already satisfied: idna<4,>=2.5 in c:\\anaconda\\lib\\site-packages (from requests->outdated->pingouin) (3.3)\n",
      "Requirement already satisfied: certifi>=2017.4.17 in c:\\anaconda\\lib\\site-packages (from requests->outdated->pingouin) (2022.9.14)\n",
      "Building wheels for collected packages: littleutils\n",
      "  Building wheel for littleutils (setup.py): started\n",
      "  Building wheel for littleutils (setup.py): finished with status 'done'\n",
      "  Created wheel for littleutils: filename=littleutils-0.2.2-py3-none-any.whl size=7028 sha256=c78039fee4b8df2d334fdc10e6217b40fc054f134e79b52494e99b6175e3c035\n",
      "  Stored in directory: c:\\users\\i'm\\appdata\\local\\pip\\cache\\wheels\\04\\bb\\0d\\2d02ec45f29c48d6192476bfb59c5a0e64b605e7212374dd15\n",
      "Successfully built littleutils\n",
      "Installing collected packages: littleutils, outdated, pandas-flavor, pingouin\n",
      "Successfully installed littleutils-0.2.2 outdated-0.2.2 pandas-flavor-0.6.0 pingouin-0.5.3\n"
     ]
    }
   ],
   "source": [
    "!pip install pingouin"
   ]
  },
  {
   "cell_type": "code",
   "execution_count": 4,
   "id": "f4fa5c77",
   "metadata": {},
   "outputs": [],
   "source": [
    "import pingouin as pg\n",
    "import matplotlib.pyplot as plt\n",
    "import pandas as pd\n",
    "import numpy as np"
   ]
  },
  {
   "cell_type": "code",
   "execution_count": 5,
   "id": "ff28e782",
   "metadata": {},
   "outputs": [
    {
     "data": {
      "text/html": [
       "<div>\n",
       "<style scoped>\n",
       "    .dataframe tbody tr th:only-of-type {\n",
       "        vertical-align: middle;\n",
       "    }\n",
       "\n",
       "    .dataframe tbody tr th {\n",
       "        vertical-align: top;\n",
       "    }\n",
       "\n",
       "    .dataframe thead th {\n",
       "        text-align: right;\n",
       "    }\n",
       "</style>\n",
       "<table border=\"1\" class=\"dataframe\">\n",
       "  <thead>\n",
       "    <tr style=\"text-align: right;\">\n",
       "      <th></th>\n",
       "      <th>Software</th>\n",
       "      <th>Knee_angle</th>\n",
       "    </tr>\n",
       "  </thead>\n",
       "  <tbody>\n",
       "    <tr>\n",
       "      <th>0</th>\n",
       "      <td>A</td>\n",
       "      <td>6.284240</td>\n",
       "    </tr>\n",
       "    <tr>\n",
       "      <th>1</th>\n",
       "      <td>A</td>\n",
       "      <td>7.005107</td>\n",
       "    </tr>\n",
       "    <tr>\n",
       "      <th>2</th>\n",
       "      <td>A</td>\n",
       "      <td>7.767563</td>\n",
       "    </tr>\n",
       "    <tr>\n",
       "      <th>3</th>\n",
       "      <td>A</td>\n",
       "      <td>8.502293</td>\n",
       "    </tr>\n",
       "    <tr>\n",
       "      <th>4</th>\n",
       "      <td>A</td>\n",
       "      <td>9.250886</td>\n",
       "    </tr>\n",
       "  </tbody>\n",
       "</table>\n",
       "</div>"
      ],
      "text/plain": [
       "  Software  Knee_angle\n",
       "0        A    6.284240\n",
       "1        A    7.005107\n",
       "2        A    7.767563\n",
       "3        A    8.502293\n",
       "4        A    9.250886"
      ]
     },
     "execution_count": 5,
     "metadata": {},
     "output_type": "execute_result"
    }
   ],
   "source": [
    "# Load dataset from Excel file\n",
    "data_file = '1SPM.xlsx'\n",
    "df = pd.read_excel(data_file)\n",
    "df.head()"
   ]
  },
  {
   "cell_type": "code",
   "execution_count": 6,
   "id": "557d7453",
   "metadata": {},
   "outputs": [
    {
     "data": {
      "text/html": [
       "<div>\n",
       "<style scoped>\n",
       "    .dataframe tbody tr th:only-of-type {\n",
       "        vertical-align: middle;\n",
       "    }\n",
       "\n",
       "    .dataframe tbody tr th {\n",
       "        vertical-align: top;\n",
       "    }\n",
       "\n",
       "    .dataframe thead th {\n",
       "        text-align: right;\n",
       "    }\n",
       "</style>\n",
       "<table border=\"1\" class=\"dataframe\">\n",
       "  <thead>\n",
       "    <tr style=\"text-align: right;\">\n",
       "      <th></th>\n",
       "      <th>Source</th>\n",
       "      <th>SS</th>\n",
       "      <th>DF</th>\n",
       "      <th>MS</th>\n",
       "      <th>F</th>\n",
       "      <th>p-unc</th>\n",
       "      <th>np2</th>\n",
       "    </tr>\n",
       "  </thead>\n",
       "  <tbody>\n",
       "    <tr>\n",
       "      <th>0</th>\n",
       "      <td>Software</td>\n",
       "      <td>3132.768365</td>\n",
       "      <td>2</td>\n",
       "      <td>1566.384183</td>\n",
       "      <td>5.652647</td>\n",
       "      <td>0.003896</td>\n",
       "      <td>0.036669</td>\n",
       "    </tr>\n",
       "    <tr>\n",
       "      <th>1</th>\n",
       "      <td>Within</td>\n",
       "      <td>82300.571461</td>\n",
       "      <td>297</td>\n",
       "      <td>277.106301</td>\n",
       "      <td>NaN</td>\n",
       "      <td>NaN</td>\n",
       "      <td>NaN</td>\n",
       "    </tr>\n",
       "  </tbody>\n",
       "</table>\n",
       "</div>"
      ],
      "text/plain": [
       "     Source            SS   DF           MS         F     p-unc       np2\n",
       "0  Software   3132.768365    2  1566.384183  5.652647  0.003896  0.036669\n",
       "1    Within  82300.571461  297   277.106301       NaN       NaN       NaN"
      ]
     },
     "execution_count": 6,
     "metadata": {},
     "output_type": "execute_result"
    }
   ],
   "source": [
    "aov = pg.anova(data = df,dv ='Knee_angle',between = 'Software',detailed = True)\n",
    "aov"
   ]
  },
  {
   "cell_type": "code",
   "execution_count": 10,
   "id": "291a9b44",
   "metadata": {},
   "outputs": [
    {
     "data": {
      "text/html": [
       "<div>\n",
       "<style scoped>\n",
       "    .dataframe tbody tr th:only-of-type {\n",
       "        vertical-align: middle;\n",
       "    }\n",
       "\n",
       "    .dataframe tbody tr th {\n",
       "        vertical-align: top;\n",
       "    }\n",
       "\n",
       "    .dataframe thead th {\n",
       "        text-align: right;\n",
       "    }\n",
       "</style>\n",
       "<table border=\"1\" class=\"dataframe\">\n",
       "  <thead>\n",
       "    <tr style=\"text-align: right;\">\n",
       "      <th></th>\n",
       "      <th>A</th>\n",
       "      <th>B</th>\n",
       "      <th>mean(A)</th>\n",
       "      <th>mean(B)</th>\n",
       "      <th>diff</th>\n",
       "      <th>se</th>\n",
       "      <th>T</th>\n",
       "      <th>p-tukey</th>\n",
       "      <th>cohen</th>\n",
       "    </tr>\n",
       "  </thead>\n",
       "  <tbody>\n",
       "    <tr>\n",
       "      <th>0</th>\n",
       "      <td>A</td>\n",
       "      <td>B</td>\n",
       "      <td>18.009693</td>\n",
       "      <td>12.923035</td>\n",
       "      <td>5.086658</td>\n",
       "      <td>2.354172</td>\n",
       "      <td>2.160699</td>\n",
       "      <td>0.079767</td>\n",
       "      <td>0.289946</td>\n",
       "    </tr>\n",
       "    <tr>\n",
       "      <th>1</th>\n",
       "      <td>A</td>\n",
       "      <td>C</td>\n",
       "      <td>18.009693</td>\n",
       "      <td>10.214130</td>\n",
       "      <td>7.795563</td>\n",
       "      <td>2.354172</td>\n",
       "      <td>3.311382</td>\n",
       "      <td>0.002988</td>\n",
       "      <td>0.454878</td>\n",
       "    </tr>\n",
       "    <tr>\n",
       "      <th>2</th>\n",
       "      <td>B</td>\n",
       "      <td>C</td>\n",
       "      <td>12.923035</td>\n",
       "      <td>10.214130</td>\n",
       "      <td>2.708905</td>\n",
       "      <td>2.354172</td>\n",
       "      <td>1.150683</td>\n",
       "      <td>0.483740</td>\n",
       "      <td>0.178680</td>\n",
       "    </tr>\n",
       "  </tbody>\n",
       "</table>\n",
       "</div>"
      ],
      "text/plain": [
       "   A  B    mean(A)    mean(B)      diff        se         T   p-tukey  \\\n",
       "0  A  B  18.009693  12.923035  5.086658  2.354172  2.160699  0.079767   \n",
       "1  A  C  18.009693  10.214130  7.795563  2.354172  3.311382  0.002988   \n",
       "2  B  C  12.923035  10.214130  2.708905  2.354172  1.150683  0.483740   \n",
       "\n",
       "      cohen  \n",
       "0  0.289946  \n",
       "1  0.454878  \n",
       "2  0.178680  "
      ]
     },
     "execution_count": 10,
     "metadata": {},
     "output_type": "execute_result"
    }
   ],
   "source": [
    "tuk = pg.pairwise_tukey(dv = 'Knee_angle',between = 'Software',effsize = 'cohen',data = df )\n",
    "tuk"
   ]
  },
  {
   "cell_type": "code",
   "execution_count": 16,
   "id": "2bab9375",
   "metadata": {},
   "outputs": [
    {
     "name": "stdout",
     "output_type": "stream",
     "text": [
      "Requirement already satisfied: statsmodels in c:\\anaconda\\lib\\site-packages (0.13.2)\n",
      "Requirement already satisfied: numpy>=1.17 in c:\\anaconda\\lib\\site-packages (from statsmodels) (1.21.5)\n",
      "Requirement already satisfied: scipy>=1.3 in c:\\anaconda\\lib\\site-packages (from statsmodels) (1.9.1)\n",
      "Requirement already satisfied: pandas>=0.25 in c:\\anaconda\\lib\\site-packages (from statsmodels) (1.4.4)\n",
      "Requirement already satisfied: patsy>=0.5.2 in c:\\anaconda\\lib\\site-packages (from statsmodels) (0.5.2)\n",
      "Requirement already satisfied: packaging>=21.3 in c:\\anaconda\\lib\\site-packages (from statsmodels) (21.3)\n",
      "Requirement already satisfied: pyparsing!=3.0.5,>=2.0.2 in c:\\anaconda\\lib\\site-packages (from packaging>=21.3->statsmodels) (3.0.9)\n",
      "Requirement already satisfied: pytz>=2020.1 in c:\\anaconda\\lib\\site-packages (from pandas>=0.25->statsmodels) (2022.1)\n",
      "Requirement already satisfied: python-dateutil>=2.8.1 in c:\\anaconda\\lib\\site-packages (from pandas>=0.25->statsmodels) (2.8.2)\n",
      "Requirement already satisfied: six in c:\\anaconda\\lib\\site-packages (from patsy>=0.5.2->statsmodels) (1.16.0)\n",
      "(array([False,  True, False]), array([0.24    , 0.008964, 1.      ]), 0.016952427508441503, 0.016666666666666666)\n"
     ]
    }
   ],
   "source": [
    "!pip install statsmodels\n",
    "import statsmodels.stats.multitest as smm\n",
    "\n",
    "pvals = [0.08, 0.002988, 0.48374]\n",
    "X = smm.multipletests(pvals, alpha=0.05, method='bonferroni', is_sorted=False)\n",
    "print(X)\n"
   ]
  },
  {
   "cell_type": "code",
   "execution_count": 19,
   "id": "1de64c45",
   "metadata": {},
   "outputs": [
    {
     "ename": "DeprecationWarning",
     "evalue": "\"spm1d.io.load\" has been deprecated.  The \"spm1d.io\" module will be removed in the future.",
     "output_type": "error",
     "traceback": [
      "\u001b[1;31m---------------------------------------------------------------------------\u001b[0m",
      "\u001b[1;31mDeprecationWarning\u001b[0m                        Traceback (most recent call last)",
      "\u001b[1;32m~\\AppData\\Local\\Temp\\ipykernel_9444\\752351690.py\u001b[0m in \u001b[0;36m<module>\u001b[1;34m\u001b[0m\n\u001b[0;32m      1\u001b[0m \u001b[1;32mfrom\u001b[0m \u001b[0mmatplotlib\u001b[0m \u001b[1;32mimport\u001b[0m \u001b[0mpyplot\u001b[0m\u001b[1;33m\u001b[0m\u001b[1;33m\u001b[0m\u001b[0m\n\u001b[0;32m      2\u001b[0m \u001b[1;32mfrom\u001b[0m \u001b[0mspm1d\u001b[0m \u001b[1;32mimport\u001b[0m \u001b[0mio\u001b[0m\u001b[1;33m,\u001b[0m \u001b[0mstats\u001b[0m\u001b[1;33m\u001b[0m\u001b[1;33m\u001b[0m\u001b[0m\n\u001b[1;32m----> 3\u001b[1;33m \u001b[0mYA\u001b[0m \u001b[1;33m=\u001b[0m \u001b[0mio\u001b[0m\u001b[1;33m.\u001b[0m\u001b[0mload\u001b[0m\u001b[1;33m(\u001b[0m\u001b[0mdf\u001b[0m\u001b[1;33m[\u001b[0m\u001b[1;34m'Software'\u001b[0m\u001b[1;33m]\u001b[0m\u001b[1;33m)\u001b[0m\u001b[1;33m;\u001b[0m \u001b[0mYA\u001b[0m\u001b[1;33m.\u001b[0m\u001b[0msmooth\u001b[0m\u001b[1;33m(\u001b[0m\u001b[1;36m2.0\u001b[0m\u001b[1;33m)\u001b[0m\u001b[1;33m\u001b[0m\u001b[1;33m\u001b[0m\u001b[0m\n\u001b[0m\u001b[0;32m      4\u001b[0m \u001b[0mYB\u001b[0m \u001b[1;33m=\u001b[0m \u001b[0mio\u001b[0m\u001b[1;33m.\u001b[0m\u001b[0mload\u001b[0m\u001b[1;33m(\u001b[0m\u001b[0mdf\u001b[0m\u001b[1;33m[\u001b[0m\u001b[1;34m'Knee_angle'\u001b[0m\u001b[1;33m]\u001b[0m\u001b[1;33m)\u001b[0m\u001b[1;33m;\u001b[0m \u001b[0mYB\u001b[0m\u001b[1;33m.\u001b[0m\u001b[0msmooth\u001b[0m\u001b[1;33m(\u001b[0m\u001b[1;36m2.0\u001b[0m\u001b[1;33m)\u001b[0m\u001b[1;33m\u001b[0m\u001b[1;33m\u001b[0m\u001b[0m\n\u001b[0;32m      5\u001b[0m \u001b[0mSPMt\u001b[0m \u001b[1;33m=\u001b[0m \u001b[0mstats\u001b[0m\u001b[1;33m.\u001b[0m\u001b[0mttest2\u001b[0m\u001b[1;33m(\u001b[0m\u001b[0mYA\u001b[0m\u001b[1;33m,\u001b[0m\u001b[0mYB\u001b[0m\u001b[1;33m)\u001b[0m\u001b[1;33m\u001b[0m\u001b[1;33m\u001b[0m\u001b[0m\n",
      "\u001b[1;32mC:\\anaconda\\lib\\site-packages\\spm1d\\io.py\u001b[0m in \u001b[0;36m__call__\u001b[1;34m(self, *args)\u001b[0m\n\u001b[0;32m     28\u001b[0m                 \u001b[0mself\u001b[0m\u001b[1;33m.\u001b[0m\u001b[0mmsg\u001b[0m   \u001b[1;33m=\u001b[0m \u001b[1;34m'\"%s\" has been deprecated.  The \"spm1d.io\" module will be removed in the future.'\u001b[0m \u001b[1;33m%\u001b[0m\u001b[0mfnname\u001b[0m\u001b[1;33m\u001b[0m\u001b[1;33m\u001b[0m\u001b[0m\n\u001b[0;32m     29\u001b[0m         \u001b[1;32mdef\u001b[0m \u001b[0m__call__\u001b[0m\u001b[1;33m(\u001b[0m\u001b[0mself\u001b[0m\u001b[1;33m,\u001b[0m \u001b[1;33m*\u001b[0m\u001b[0margs\u001b[0m\u001b[1;33m)\u001b[0m\u001b[1;33m:\u001b[0m\u001b[1;33m\u001b[0m\u001b[1;33m\u001b[0m\u001b[0m\n\u001b[1;32m---> 30\u001b[1;33m                 \u001b[1;32mraise\u001b[0m\u001b[1;33m(\u001b[0m \u001b[0mDeprecationWarning\u001b[0m\u001b[1;33m(\u001b[0m \u001b[0mself\u001b[0m\u001b[1;33m.\u001b[0m\u001b[0mmsg\u001b[0m \u001b[1;33m)\u001b[0m \u001b[1;33m)\u001b[0m\u001b[1;33m\u001b[0m\u001b[1;33m\u001b[0m\u001b[0m\n\u001b[0m\u001b[0;32m     31\u001b[0m \u001b[1;33m\u001b[0m\u001b[0m\n\u001b[0;32m     32\u001b[0m \u001b[1;33m\u001b[0m\u001b[0m\n",
      "\u001b[1;31mDeprecationWarning\u001b[0m: \"spm1d.io.load\" has been deprecated.  The \"spm1d.io\" module will be removed in the future."
     ]
    }
   ],
   "source": [
    "from matplotlib import pyplot\n",
    "from spm1d import io, stats\n",
    "YA = io.load(df['Software']); YA.smooth(2.0)\n",
    "YB = io.load(df['Knee_angle']); YB.smooth(2.0)\n",
    "SPMt = stats.ttest2(YA,YB)\n",
    "SPMti = SPMt.inference(height = 3.0)\n",
    "pyplot.figure( )\n",
    "YA.mean( ).plot( )\n",
    "YB.mean( ).plot(color = 'r')\n",
    "pyplot.figure( )\n",
    "SPMti.plot( )"
   ]
  },
  {
   "cell_type": "code",
   "execution_count": 20,
   "id": "7e906773",
   "metadata": {},
   "outputs": [
    {
     "name": "stdout",
     "output_type": "stream",
     "text": [
      "Requirement already satisfied: spm1d in c:\\anaconda\\lib\\site-packages (0.4.19)\n",
      "Requirement already satisfied: numpy in c:\\anaconda\\lib\\site-packages (from spm1d) (1.21.5)\n",
      "Requirement already satisfied: matplotlib in c:\\anaconda\\lib\\site-packages (from spm1d) (3.5.2)\n",
      "Requirement already satisfied: scipy in c:\\anaconda\\lib\\site-packages (from spm1d) (1.9.1)\n",
      "Requirement already satisfied: kiwisolver>=1.0.1 in c:\\anaconda\\lib\\site-packages (from matplotlib->spm1d) (1.4.2)\n",
      "Requirement already satisfied: pillow>=6.2.0 in c:\\anaconda\\lib\\site-packages (from matplotlib->spm1d) (9.2.0)\n",
      "Requirement already satisfied: packaging>=20.0 in c:\\anaconda\\lib\\site-packages (from matplotlib->spm1d) (21.3)\n",
      "Requirement already satisfied: pyparsing>=2.2.1 in c:\\anaconda\\lib\\site-packages (from matplotlib->spm1d) (3.0.9)\n",
      "Requirement already satisfied: cycler>=0.10 in c:\\anaconda\\lib\\site-packages (from matplotlib->spm1d) (0.11.0)\n",
      "Requirement already satisfied: python-dateutil>=2.7 in c:\\anaconda\\lib\\site-packages (from matplotlib->spm1d) (2.8.2)\n",
      "Requirement already satisfied: fonttools>=4.22.0 in c:\\anaconda\\lib\\site-packages (from matplotlib->spm1d) (4.25.0)\n",
      "Requirement already satisfied: six>=1.5 in c:\\anaconda\\lib\\site-packages (from python-dateutil>=2.7->matplotlib->spm1d) (1.16.0)\n"
     ]
    }
   ],
   "source": [
    "!pip install spm1d"
   ]
  },
  {
   "cell_type": "code",
   "execution_count": 26,
   "id": "dd2a2f95",
   "metadata": {},
   "outputs": [
    {
     "ename": "FileNotFoundError",
     "evalue": "[Errno 2] No such file or directory: 'your_data_file.xlsx'",
     "output_type": "error",
     "traceback": [
      "\u001b[1;31m---------------------------------------------------------------------------\u001b[0m",
      "\u001b[1;31mFileNotFoundError\u001b[0m                         Traceback (most recent call last)",
      "\u001b[1;32m~\\AppData\\Local\\Temp\\ipykernel_9444\\4105691378.py\u001b[0m in \u001b[0;36m<module>\u001b[1;34m\u001b[0m\n\u001b[0;32m      3\u001b[0m \u001b[1;33m\u001b[0m\u001b[0m\n\u001b[0;32m      4\u001b[0m \u001b[1;31m# Load the data from the Excel workbook\u001b[0m\u001b[1;33m\u001b[0m\u001b[1;33m\u001b[0m\u001b[0m\n\u001b[1;32m----> 5\u001b[1;33m \u001b[0mdata\u001b[0m \u001b[1;33m=\u001b[0m \u001b[0mpd\u001b[0m\u001b[1;33m.\u001b[0m\u001b[0mread_excel\u001b[0m\u001b[1;33m(\u001b[0m\u001b[1;34m'your_data_file.xlsx'\u001b[0m\u001b[1;33m,\u001b[0m \u001b[0msheet_name\u001b[0m\u001b[1;33m=\u001b[0m\u001b[1;34m'Sheet1'\u001b[0m\u001b[1;33m)\u001b[0m\u001b[1;33m\u001b[0m\u001b[1;33m\u001b[0m\u001b[0m\n\u001b[0m\u001b[0;32m      6\u001b[0m \u001b[1;33m\u001b[0m\u001b[0m\n\u001b[0;32m      7\u001b[0m \u001b[1;31m# Extract the variables for each category\u001b[0m\u001b[1;33m\u001b[0m\u001b[1;33m\u001b[0m\u001b[0m\n",
      "\u001b[1;32mC:\\anaconda\\lib\\site-packages\\pandas\\util\\_decorators.py\u001b[0m in \u001b[0;36mwrapper\u001b[1;34m(*args, **kwargs)\u001b[0m\n\u001b[0;32m    309\u001b[0m                     \u001b[0mstacklevel\u001b[0m\u001b[1;33m=\u001b[0m\u001b[0mstacklevel\u001b[0m\u001b[1;33m,\u001b[0m\u001b[1;33m\u001b[0m\u001b[1;33m\u001b[0m\u001b[0m\n\u001b[0;32m    310\u001b[0m                 )\n\u001b[1;32m--> 311\u001b[1;33m             \u001b[1;32mreturn\u001b[0m \u001b[0mfunc\u001b[0m\u001b[1;33m(\u001b[0m\u001b[1;33m*\u001b[0m\u001b[0margs\u001b[0m\u001b[1;33m,\u001b[0m \u001b[1;33m**\u001b[0m\u001b[0mkwargs\u001b[0m\u001b[1;33m)\u001b[0m\u001b[1;33m\u001b[0m\u001b[1;33m\u001b[0m\u001b[0m\n\u001b[0m\u001b[0;32m    312\u001b[0m \u001b[1;33m\u001b[0m\u001b[0m\n\u001b[0;32m    313\u001b[0m         \u001b[1;32mreturn\u001b[0m \u001b[0mwrapper\u001b[0m\u001b[1;33m\u001b[0m\u001b[1;33m\u001b[0m\u001b[0m\n",
      "\u001b[1;32mC:\\anaconda\\lib\\site-packages\\pandas\\io\\excel\\_base.py\u001b[0m in \u001b[0;36mread_excel\u001b[1;34m(io, sheet_name, header, names, index_col, usecols, squeeze, dtype, engine, converters, true_values, false_values, skiprows, nrows, na_values, keep_default_na, na_filter, verbose, parse_dates, date_parser, thousands, decimal, comment, skipfooter, convert_float, mangle_dupe_cols, storage_options)\u001b[0m\n\u001b[0;32m    455\u001b[0m     \u001b[1;32mif\u001b[0m \u001b[1;32mnot\u001b[0m \u001b[0misinstance\u001b[0m\u001b[1;33m(\u001b[0m\u001b[0mio\u001b[0m\u001b[1;33m,\u001b[0m \u001b[0mExcelFile\u001b[0m\u001b[1;33m)\u001b[0m\u001b[1;33m:\u001b[0m\u001b[1;33m\u001b[0m\u001b[1;33m\u001b[0m\u001b[0m\n\u001b[0;32m    456\u001b[0m         \u001b[0mshould_close\u001b[0m \u001b[1;33m=\u001b[0m \u001b[1;32mTrue\u001b[0m\u001b[1;33m\u001b[0m\u001b[1;33m\u001b[0m\u001b[0m\n\u001b[1;32m--> 457\u001b[1;33m         \u001b[0mio\u001b[0m \u001b[1;33m=\u001b[0m \u001b[0mExcelFile\u001b[0m\u001b[1;33m(\u001b[0m\u001b[0mio\u001b[0m\u001b[1;33m,\u001b[0m \u001b[0mstorage_options\u001b[0m\u001b[1;33m=\u001b[0m\u001b[0mstorage_options\u001b[0m\u001b[1;33m,\u001b[0m \u001b[0mengine\u001b[0m\u001b[1;33m=\u001b[0m\u001b[0mengine\u001b[0m\u001b[1;33m)\u001b[0m\u001b[1;33m\u001b[0m\u001b[1;33m\u001b[0m\u001b[0m\n\u001b[0m\u001b[0;32m    458\u001b[0m     \u001b[1;32melif\u001b[0m \u001b[0mengine\u001b[0m \u001b[1;32mand\u001b[0m \u001b[0mengine\u001b[0m \u001b[1;33m!=\u001b[0m \u001b[0mio\u001b[0m\u001b[1;33m.\u001b[0m\u001b[0mengine\u001b[0m\u001b[1;33m:\u001b[0m\u001b[1;33m\u001b[0m\u001b[1;33m\u001b[0m\u001b[0m\n\u001b[0;32m    459\u001b[0m         raise ValueError(\n",
      "\u001b[1;32mC:\\anaconda\\lib\\site-packages\\pandas\\io\\excel\\_base.py\u001b[0m in \u001b[0;36m__init__\u001b[1;34m(self, path_or_buffer, engine, storage_options)\u001b[0m\n\u001b[0;32m   1374\u001b[0m                 \u001b[0mext\u001b[0m \u001b[1;33m=\u001b[0m \u001b[1;34m\"xls\"\u001b[0m\u001b[1;33m\u001b[0m\u001b[1;33m\u001b[0m\u001b[0m\n\u001b[0;32m   1375\u001b[0m             \u001b[1;32melse\u001b[0m\u001b[1;33m:\u001b[0m\u001b[1;33m\u001b[0m\u001b[1;33m\u001b[0m\u001b[0m\n\u001b[1;32m-> 1376\u001b[1;33m                 ext = inspect_excel_format(\n\u001b[0m\u001b[0;32m   1377\u001b[0m                     \u001b[0mcontent_or_path\u001b[0m\u001b[1;33m=\u001b[0m\u001b[0mpath_or_buffer\u001b[0m\u001b[1;33m,\u001b[0m \u001b[0mstorage_options\u001b[0m\u001b[1;33m=\u001b[0m\u001b[0mstorage_options\u001b[0m\u001b[1;33m\u001b[0m\u001b[1;33m\u001b[0m\u001b[0m\n\u001b[0;32m   1378\u001b[0m                 )\n",
      "\u001b[1;32mC:\\anaconda\\lib\\site-packages\\pandas\\io\\excel\\_base.py\u001b[0m in \u001b[0;36minspect_excel_format\u001b[1;34m(content_or_path, storage_options)\u001b[0m\n\u001b[0;32m   1248\u001b[0m         \u001b[0mcontent_or_path\u001b[0m \u001b[1;33m=\u001b[0m \u001b[0mBytesIO\u001b[0m\u001b[1;33m(\u001b[0m\u001b[0mcontent_or_path\u001b[0m\u001b[1;33m)\u001b[0m\u001b[1;33m\u001b[0m\u001b[1;33m\u001b[0m\u001b[0m\n\u001b[0;32m   1249\u001b[0m \u001b[1;33m\u001b[0m\u001b[0m\n\u001b[1;32m-> 1250\u001b[1;33m     with get_handle(\n\u001b[0m\u001b[0;32m   1251\u001b[0m         \u001b[0mcontent_or_path\u001b[0m\u001b[1;33m,\u001b[0m \u001b[1;34m\"rb\"\u001b[0m\u001b[1;33m,\u001b[0m \u001b[0mstorage_options\u001b[0m\u001b[1;33m=\u001b[0m\u001b[0mstorage_options\u001b[0m\u001b[1;33m,\u001b[0m \u001b[0mis_text\u001b[0m\u001b[1;33m=\u001b[0m\u001b[1;32mFalse\u001b[0m\u001b[1;33m\u001b[0m\u001b[1;33m\u001b[0m\u001b[0m\n\u001b[0;32m   1252\u001b[0m     ) as handle:\n",
      "\u001b[1;32mC:\\anaconda\\lib\\site-packages\\pandas\\io\\common.py\u001b[0m in \u001b[0;36mget_handle\u001b[1;34m(path_or_buf, mode, encoding, compression, memory_map, is_text, errors, storage_options)\u001b[0m\n\u001b[0;32m    793\u001b[0m         \u001b[1;32melse\u001b[0m\u001b[1;33m:\u001b[0m\u001b[1;33m\u001b[0m\u001b[1;33m\u001b[0m\u001b[0m\n\u001b[0;32m    794\u001b[0m             \u001b[1;31m# Binary mode\u001b[0m\u001b[1;33m\u001b[0m\u001b[1;33m\u001b[0m\u001b[0m\n\u001b[1;32m--> 795\u001b[1;33m             \u001b[0mhandle\u001b[0m \u001b[1;33m=\u001b[0m \u001b[0mopen\u001b[0m\u001b[1;33m(\u001b[0m\u001b[0mhandle\u001b[0m\u001b[1;33m,\u001b[0m \u001b[0mioargs\u001b[0m\u001b[1;33m.\u001b[0m\u001b[0mmode\u001b[0m\u001b[1;33m)\u001b[0m\u001b[1;33m\u001b[0m\u001b[1;33m\u001b[0m\u001b[0m\n\u001b[0m\u001b[0;32m    796\u001b[0m         \u001b[0mhandles\u001b[0m\u001b[1;33m.\u001b[0m\u001b[0mappend\u001b[0m\u001b[1;33m(\u001b[0m\u001b[0mhandle\u001b[0m\u001b[1;33m)\u001b[0m\u001b[1;33m\u001b[0m\u001b[1;33m\u001b[0m\u001b[0m\n\u001b[0;32m    797\u001b[0m \u001b[1;33m\u001b[0m\u001b[0m\n",
      "\u001b[1;31mFileNotFoundError\u001b[0m: [Errno 2] No such file or directory: 'your_data_file.xlsx'"
     ]
    }
   ],
   "source": [
    "import pandas as pd\n",
    "from spm1d import stats\n",
    "\n",
    "# Load the data from the Excel workbook\n",
    "data = pd.read_excel('your_data_file.xlsx', sheet_name='Sheet1')\n",
    "\n",
    "# Extract the variables for each category\n",
    "YA = data[data['Software'] == 'A']['Knee_angle']\n",
    "YB = data[data['Software'] == 'B']['Knee_angle']\n",
    "YC = data[data['Software'] == 'C']['Knee_angle']\n",
    "\n",
    "# Perform smoothing if desired\n",
    "YA_smooth = YA.rolling(window=3, min_periods=1).mean()\n",
    "YB_smooth = YB.rolling(window=3, min_periods=1).mean()\n",
    "YC_smooth = YC.rolling(window=3, min_periods=1).mean()\n",
    "\n",
    "# Perform the t-tests for each category\n",
    "SPMt_AB = stats.ttest2(YA_smooth, YB_smooth)\n",
    "SPMt_AC = stats.ttest2(YA_smooth, YC_smooth)\n",
    "SPMt_BC = stats.ttest2(YB_smooth, YC_smooth)\n",
    "\n",
    "# Retrieve the t-values and p-values for each category comparison\n",
    "T_AB = SPMt_AB.inference()[0]\n",
    "P_AB = SPMt_AB.inference()[1]\n",
    "T_AC = SPMt_AC.inference()[0]\n",
    "P_AC = SPMt_AC.inference()[1]\n",
    "T_BC = SPMt_BC.inference()[0]\n",
    "P_BC = SPMt_BC.inference()[1]\n",
    "\n",
    "# Print the t-values and p-values for each category comparison\n",
    "print('T-values (A vs B):', T_AB)\n",
    "print('P-values (A vs B):', P_AB)\n",
    "print('T-values (A vs C):', T_AC)\n",
    "print('P-values (A vs C):', P_AC)\n",
    "print('T-values (B vs C):', T_BC)\n",
    "print('P-values (B vs C):', P_BC)"
   ]
  },
  {
   "cell_type": "code",
   "execution_count": 1,
   "id": "355d3819",
   "metadata": {},
   "outputs": [],
   "source": [
    "import pandas as pd"
   ]
  },
  {
   "cell_type": "code",
   "execution_count": 13,
   "id": "25e67ece",
   "metadata": {},
   "outputs": [
    {
     "data": {
      "text/html": [
       "<div>\n",
       "<style scoped>\n",
       "    .dataframe tbody tr th:only-of-type {\n",
       "        vertical-align: middle;\n",
       "    }\n",
       "\n",
       "    .dataframe tbody tr th {\n",
       "        vertical-align: top;\n",
       "    }\n",
       "\n",
       "    .dataframe thead th {\n",
       "        text-align: right;\n",
       "    }\n",
       "</style>\n",
       "<table border=\"1\" class=\"dataframe\">\n",
       "  <thead>\n",
       "    <tr style=\"text-align: right;\">\n",
       "      <th></th>\n",
       "      <th>Percentage of GAIT cycle</th>\n",
       "      <th>A</th>\n",
       "      <th>B</th>\n",
       "      <th>C</th>\n",
       "    </tr>\n",
       "  </thead>\n",
       "  <tbody>\n",
       "    <tr>\n",
       "      <th>0</th>\n",
       "      <td>1</td>\n",
       "      <td>6.284240</td>\n",
       "      <td>2.3000</td>\n",
       "      <td>0.473136</td>\n",
       "    </tr>\n",
       "    <tr>\n",
       "      <th>1</th>\n",
       "      <td>2</td>\n",
       "      <td>7.005107</td>\n",
       "      <td>3.0280</td>\n",
       "      <td>0.015310</td>\n",
       "    </tr>\n",
       "    <tr>\n",
       "      <th>2</th>\n",
       "      <td>3</td>\n",
       "      <td>7.767563</td>\n",
       "      <td>3.0280</td>\n",
       "      <td>0.302547</td>\n",
       "    </tr>\n",
       "    <tr>\n",
       "      <th>3</th>\n",
       "      <td>4</td>\n",
       "      <td>8.502293</td>\n",
       "      <td>3.5980</td>\n",
       "      <td>0.447786</td>\n",
       "    </tr>\n",
       "    <tr>\n",
       "      <th>4</th>\n",
       "      <td>5</td>\n",
       "      <td>9.250886</td>\n",
       "      <td>4.0894</td>\n",
       "      <td>0.593342</td>\n",
       "    </tr>\n",
       "  </tbody>\n",
       "</table>\n",
       "</div>"
      ],
      "text/plain": [
       "   Percentage of GAIT cycle         A       B         C\n",
       "0                         1  6.284240  2.3000  0.473136\n",
       "1                         2  7.005107  3.0280  0.015310\n",
       "2                         3  7.767563  3.0280  0.302547\n",
       "3                         4  8.502293  3.5980  0.447786\n",
       "4                         5  9.250886  4.0894  0.593342"
      ]
     },
     "execution_count": 13,
     "metadata": {},
     "output_type": "execute_result"
    }
   ],
   "source": [
    "data1 = pd.read_csv('Analysis_data.csv')\n",
    "data1.head()"
   ]
  },
  {
   "cell_type": "code",
   "execution_count": 20,
   "id": "c93f1231",
   "metadata": {},
   "outputs": [
    {
     "data": {
      "text/html": [
       "<div>\n",
       "<style scoped>\n",
       "    .dataframe tbody tr th:only-of-type {\n",
       "        vertical-align: middle;\n",
       "    }\n",
       "\n",
       "    .dataframe tbody tr th {\n",
       "        vertical-align: top;\n",
       "    }\n",
       "\n",
       "    .dataframe thead th {\n",
       "        text-align: right;\n",
       "    }\n",
       "</style>\n",
       "<table border=\"1\" class=\"dataframe\">\n",
       "  <thead>\n",
       "    <tr style=\"text-align: right;\">\n",
       "      <th></th>\n",
       "      <th>Percentage of GAIT cycle</th>\n",
       "      <th>A</th>\n",
       "      <th>B</th>\n",
       "      <th>C</th>\n",
       "      <th>ABS_diffA&amp;B</th>\n",
       "      <th>ABS_diffA&amp;C</th>\n",
       "      <th>ABS_diffB&amp;C</th>\n",
       "    </tr>\n",
       "  </thead>\n",
       "  <tbody>\n",
       "    <tr>\n",
       "      <th>0</th>\n",
       "      <td>1</td>\n",
       "      <td>6.284240</td>\n",
       "      <td>2.3000</td>\n",
       "      <td>0.473136</td>\n",
       "      <td>3.984240</td>\n",
       "      <td>5.811104</td>\n",
       "      <td>1.826864</td>\n",
       "    </tr>\n",
       "    <tr>\n",
       "      <th>1</th>\n",
       "      <td>2</td>\n",
       "      <td>7.005107</td>\n",
       "      <td>3.0280</td>\n",
       "      <td>0.015310</td>\n",
       "      <td>3.977107</td>\n",
       "      <td>6.989797</td>\n",
       "      <td>3.012690</td>\n",
       "    </tr>\n",
       "    <tr>\n",
       "      <th>2</th>\n",
       "      <td>3</td>\n",
       "      <td>7.767563</td>\n",
       "      <td>3.0280</td>\n",
       "      <td>0.302547</td>\n",
       "      <td>4.739563</td>\n",
       "      <td>7.465017</td>\n",
       "      <td>2.725453</td>\n",
       "    </tr>\n",
       "    <tr>\n",
       "      <th>3</th>\n",
       "      <td>4</td>\n",
       "      <td>8.502293</td>\n",
       "      <td>3.5980</td>\n",
       "      <td>0.447786</td>\n",
       "      <td>4.904293</td>\n",
       "      <td>8.054507</td>\n",
       "      <td>3.150214</td>\n",
       "    </tr>\n",
       "    <tr>\n",
       "      <th>4</th>\n",
       "      <td>5</td>\n",
       "      <td>9.250886</td>\n",
       "      <td>4.0894</td>\n",
       "      <td>0.593342</td>\n",
       "      <td>5.161486</td>\n",
       "      <td>8.657544</td>\n",
       "      <td>3.496058</td>\n",
       "    </tr>\n",
       "  </tbody>\n",
       "</table>\n",
       "</div>"
      ],
      "text/plain": [
       "   Percentage of GAIT cycle         A       B         C  ABS_diffA&B  \\\n",
       "0                         1  6.284240  2.3000  0.473136     3.984240   \n",
       "1                         2  7.005107  3.0280  0.015310     3.977107   \n",
       "2                         3  7.767563  3.0280  0.302547     4.739563   \n",
       "3                         4  8.502293  3.5980  0.447786     4.904293   \n",
       "4                         5  9.250886  4.0894  0.593342     5.161486   \n",
       "\n",
       "   ABS_diffA&C  ABS_diffB&C  \n",
       "0     5.811104     1.826864  \n",
       "1     6.989797     3.012690  \n",
       "2     7.465017     2.725453  \n",
       "3     8.054507     3.150214  \n",
       "4     8.657544     3.496058  "
      ]
     },
     "execution_count": 20,
     "metadata": {},
     "output_type": "execute_result"
    }
   ],
   "source": [
    "data1['ABS_diffA&B'] = pd.Series(data['A'] - data['B'])\n",
    "data1.head()\n",
    "data1['ABS_diffB&C'] = pd.Series(data['B'] - data['C'])\n",
    "data1.head()"
   ]
  },
  {
   "cell_type": "code",
   "execution_count": 21,
   "id": "33f55463",
   "metadata": {},
   "outputs": [
    {
     "data": {
      "text/plain": [
       "508.6657709900001"
      ]
     },
     "execution_count": 21,
     "metadata": {},
     "output_type": "execute_result"
    }
   ],
   "source": [
    "SAEB = data1['ABS_diffA&B'].sum(axis = 0)\n",
    "SAEB"
   ]
  },
  {
   "cell_type": "code",
   "execution_count": 22,
   "id": "00b369a9",
   "metadata": {},
   "outputs": [
    {
     "data": {
      "text/plain": [
       "270.890500144"
      ]
     },
     "execution_count": 22,
     "metadata": {},
     "output_type": "execute_result"
    }
   ],
   "source": [
    "SAEC = data1['ABS_diffB&C'].sum(axis = 0)\n",
    "SAEC"
   ]
  },
  {
   "cell_type": "code",
   "execution_count": 23,
   "id": "41e993e0",
   "metadata": {},
   "outputs": [
    {
     "name": "stdout",
     "output_type": "stream",
     "text": [
      "5.086657709900001\n",
      "2.70890500144\n"
     ]
    }
   ],
   "source": [
    "MAEB = SAEB/100\n",
    "MAEC = SAEC/100\n",
    "print(MAEB)\n",
    "print(MAEC)"
   ]
  },
  {
   "cell_type": "code",
   "execution_count": 24,
   "id": "b7e5b55b",
   "metadata": {},
   "outputs": [],
   "source": [
    "import seaborn as sns\n",
    "import matplotlib.pyplot as plt"
   ]
  },
  {
   "cell_type": "code",
   "execution_count": 25,
   "id": "d6a5026c",
   "metadata": {},
   "outputs": [
    {
     "data": {
      "image/png": "[encoded data removed]",
      "text/plain": [
       "<Figure size 640x480 with 1 Axes>"
      ]
     },
     "metadata": {},
     "output_type": "display_data"
    }
   ],
   "source": [
    "sns.lineplot(data=data1[['ABS_diffA&B','ABS_diffB&C']])\n",
    "plt.show()"
   ]
  },
  {
   "cell_type": "code",
   "execution_count": 30,
   "id": "93f20652",
   "metadata": {},
   "outputs": [
    {
     "data": {
      "text/html": [
       "<div>\n",
       "<style scoped>\n",
       "    .dataframe tbody tr th:only-of-type {\n",
       "        vertical-align: middle;\n",
       "    }\n",
       "\n",
       "    .dataframe tbody tr th {\n",
       "        vertical-align: top;\n",
       "    }\n",
       "\n",
       "    .dataframe thead th {\n",
       "        text-align: right;\n",
       "    }\n",
       "</style>\n",
       "<table border=\"1\" class=\"dataframe\">\n",
       "  <thead>\n",
       "    <tr style=\"text-align: right;\">\n",
       "      <th></th>\n",
       "      <th>Percentage of GAIT cycle</th>\n",
       "      <th>A</th>\n",
       "      <th>B</th>\n",
       "      <th>C</th>\n",
       "      <th>ABS_diffA&amp;B</th>\n",
       "      <th>ABS_diffA&amp;C</th>\n",
       "      <th>ABS_diffB&amp;C</th>\n",
       "      <th>RMSE_A_B</th>\n",
       "      <th>RMSE_A_C</th>\n",
       "      <th>RSE_A_B</th>\n",
       "      <th>RSE_A_C</th>\n",
       "      <th>RSE_B_C</th>\n",
       "    </tr>\n",
       "  </thead>\n",
       "  <tbody>\n",
       "    <tr>\n",
       "      <th>0</th>\n",
       "      <td>1</td>\n",
       "      <td>6.284240</td>\n",
       "      <td>2.3000</td>\n",
       "      <td>0.473136</td>\n",
       "      <td>3.984240</td>\n",
       "      <td>5.811104</td>\n",
       "      <td>1.826864</td>\n",
       "      <td>15.874170</td>\n",
       "      <td>33.768933</td>\n",
       "      <td>15.874170</td>\n",
       "      <td>33.768933</td>\n",
       "      <td>3.337433</td>\n",
       "    </tr>\n",
       "    <tr>\n",
       "      <th>1</th>\n",
       "      <td>2</td>\n",
       "      <td>7.005107</td>\n",
       "      <td>3.0280</td>\n",
       "      <td>0.015310</td>\n",
       "      <td>3.977107</td>\n",
       "      <td>6.989797</td>\n",
       "      <td>3.012690</td>\n",
       "      <td>15.817383</td>\n",
       "      <td>48.857262</td>\n",
       "      <td>15.817383</td>\n",
       "      <td>48.857262</td>\n",
       "      <td>9.076299</td>\n",
       "    </tr>\n",
       "    <tr>\n",
       "      <th>2</th>\n",
       "      <td>3</td>\n",
       "      <td>7.767563</td>\n",
       "      <td>3.0280</td>\n",
       "      <td>0.302547</td>\n",
       "      <td>4.739563</td>\n",
       "      <td>7.465017</td>\n",
       "      <td>2.725453</td>\n",
       "      <td>22.463458</td>\n",
       "      <td>55.726472</td>\n",
       "      <td>22.463458</td>\n",
       "      <td>55.726472</td>\n",
       "      <td>7.428097</td>\n",
       "    </tr>\n",
       "    <tr>\n",
       "      <th>3</th>\n",
       "      <td>4</td>\n",
       "      <td>8.502293</td>\n",
       "      <td>3.5980</td>\n",
       "      <td>0.447786</td>\n",
       "      <td>4.904293</td>\n",
       "      <td>8.054507</td>\n",
       "      <td>3.150214</td>\n",
       "      <td>24.052091</td>\n",
       "      <td>64.875087</td>\n",
       "      <td>24.052091</td>\n",
       "      <td>64.875087</td>\n",
       "      <td>9.923849</td>\n",
       "    </tr>\n",
       "    <tr>\n",
       "      <th>4</th>\n",
       "      <td>5</td>\n",
       "      <td>9.250886</td>\n",
       "      <td>4.0894</td>\n",
       "      <td>0.593342</td>\n",
       "      <td>5.161486</td>\n",
       "      <td>8.657544</td>\n",
       "      <td>3.496058</td>\n",
       "      <td>26.640937</td>\n",
       "      <td>74.953070</td>\n",
       "      <td>26.640937</td>\n",
       "      <td>74.953070</td>\n",
       "      <td>12.222423</td>\n",
       "    </tr>\n",
       "  </tbody>\n",
       "</table>\n",
       "</div>"
      ],
      "text/plain": [
       "   Percentage of GAIT cycle         A       B         C  ABS_diffA&B  \\\n",
       "0                         1  6.284240  2.3000  0.473136     3.984240   \n",
       "1                         2  7.005107  3.0280  0.015310     3.977107   \n",
       "2                         3  7.767563  3.0280  0.302547     4.739563   \n",
       "3                         4  8.502293  3.5980  0.447786     4.904293   \n",
       "4                         5  9.250886  4.0894  0.593342     5.161486   \n",
       "\n",
       "   ABS_diffA&C  ABS_diffB&C   RMSE_A_B   RMSE_A_C    RSE_A_B    RSE_A_C  \\\n",
       "0     5.811104     1.826864  15.874170  33.768933  15.874170  33.768933   \n",
       "1     6.989797     3.012690  15.817383  48.857262  15.817383  48.857262   \n",
       "2     7.465017     2.725453  22.463458  55.726472  22.463458  55.726472   \n",
       "3     8.054507     3.150214  24.052091  64.875087  24.052091  64.875087   \n",
       "4     8.657544     3.496058  26.640937  74.953070  26.640937  74.953070   \n",
       "\n",
       "     RSE_B_C  \n",
       "0   3.337433  \n",
       "1   9.076299  \n",
       "2   7.428097  \n",
       "3   9.923849  \n",
       "4  12.222423  "
      ]
     },
     "execution_count": 30,
     "metadata": {},
     "output_type": "execute_result"
    }
   ],
   "source": [
    "data1['RSE_A_B'] = data1['ABS_diffA&B']**2\n",
    "data1['RSE_B_C'] = data1['ABS_diffB&C']**2\n",
    "data1.head()"
   ]
  },
  {
   "cell_type": "code",
   "execution_count": 32,
   "id": "a8c4ff0f",
   "metadata": {},
   "outputs": [
    {
     "data": {
      "text/html": [
       "<div>\n",
       "<style scoped>\n",
       "    .dataframe tbody tr th:only-of-type {\n",
       "        vertical-align: middle;\n",
       "    }\n",
       "\n",
       "    .dataframe tbody tr th {\n",
       "        vertical-align: top;\n",
       "    }\n",
       "\n",
       "    .dataframe thead th {\n",
       "        text-align: right;\n",
       "    }\n",
       "</style>\n",
       "<table border=\"1\" class=\"dataframe\">\n",
       "  <thead>\n",
       "    <tr style=\"text-align: right;\">\n",
       "      <th></th>\n",
       "      <th>Percentage of GAIT cycle</th>\n",
       "      <th>A</th>\n",
       "      <th>B</th>\n",
       "      <th>C</th>\n",
       "      <th>ABS_diffA&amp;B</th>\n",
       "      <th>ABS_diffB&amp;C</th>\n",
       "      <th>RSE_A_B</th>\n",
       "      <th>RSE_B_C</th>\n",
       "    </tr>\n",
       "  </thead>\n",
       "  <tbody>\n",
       "    <tr>\n",
       "      <th>0</th>\n",
       "      <td>1</td>\n",
       "      <td>6.284240</td>\n",
       "      <td>2.3000</td>\n",
       "      <td>0.473136</td>\n",
       "      <td>3.984240</td>\n",
       "      <td>1.826864</td>\n",
       "      <td>15.874170</td>\n",
       "      <td>3.337433</td>\n",
       "    </tr>\n",
       "    <tr>\n",
       "      <th>1</th>\n",
       "      <td>2</td>\n",
       "      <td>7.005107</td>\n",
       "      <td>3.0280</td>\n",
       "      <td>0.015310</td>\n",
       "      <td>3.977107</td>\n",
       "      <td>3.012690</td>\n",
       "      <td>15.817383</td>\n",
       "      <td>9.076299</td>\n",
       "    </tr>\n",
       "    <tr>\n",
       "      <th>2</th>\n",
       "      <td>3</td>\n",
       "      <td>7.767563</td>\n",
       "      <td>3.0280</td>\n",
       "      <td>0.302547</td>\n",
       "      <td>4.739563</td>\n",
       "      <td>2.725453</td>\n",
       "      <td>22.463458</td>\n",
       "      <td>7.428097</td>\n",
       "    </tr>\n",
       "    <tr>\n",
       "      <th>3</th>\n",
       "      <td>4</td>\n",
       "      <td>8.502293</td>\n",
       "      <td>3.5980</td>\n",
       "      <td>0.447786</td>\n",
       "      <td>4.904293</td>\n",
       "      <td>3.150214</td>\n",
       "      <td>24.052091</td>\n",
       "      <td>9.923849</td>\n",
       "    </tr>\n",
       "    <tr>\n",
       "      <th>4</th>\n",
       "      <td>5</td>\n",
       "      <td>9.250886</td>\n",
       "      <td>4.0894</td>\n",
       "      <td>0.593342</td>\n",
       "      <td>5.161486</td>\n",
       "      <td>3.496058</td>\n",
       "      <td>26.640937</td>\n",
       "      <td>12.222423</td>\n",
       "    </tr>\n",
       "  </tbody>\n",
       "</table>\n",
       "</div>"
      ],
      "text/plain": [
       "   Percentage of GAIT cycle         A       B         C  ABS_diffA&B  \\\n",
       "0                         1  6.284240  2.3000  0.473136     3.984240   \n",
       "1                         2  7.005107  3.0280  0.015310     3.977107   \n",
       "2                         3  7.767563  3.0280  0.302547     4.739563   \n",
       "3                         4  8.502293  3.5980  0.447786     4.904293   \n",
       "4                         5  9.250886  4.0894  0.593342     5.161486   \n",
       "\n",
       "   ABS_diffB&C    RSE_A_B    RSE_B_C  \n",
       "0     1.826864  15.874170   3.337433  \n",
       "1     3.012690  15.817383   9.076299  \n",
       "2     2.725453  22.463458   7.428097  \n",
       "3     3.150214  24.052091   9.923849  \n",
       "4     3.496058  26.640937  12.222423  "
      ]
     },
     "execution_count": 32,
     "metadata": {},
     "output_type": "execute_result"
    }
   ],
   "source": [
    "data_1 = data1.drop(['ABS_diffA&C','RMSE_A_C','RMSE_A_B','RSE_A_C'],axis = 1)\n",
    "data_1.head()"
   ]
  },
  {
   "cell_type": "code",
   "execution_count": 37,
   "id": "6038662a",
   "metadata": {},
   "outputs": [
    {
     "data": {
      "text/plain": [
       "16.815820470183887"
      ]
     },
     "execution_count": 37,
     "metadata": {},
     "output_type": "execute_result"
    }
   ],
   "source": [
    "RMSE_A_B = data_1['RSE_A_B'].sum(axis = 0)/100\n",
    "R = RMSE_A_B**0.5\n",
    "R"
   ]
  },
  {
   "cell_type": "code",
   "execution_count": 38,
   "id": "ef38716e",
   "metadata": {},
   "outputs": [
    {
     "data": {
      "text/plain": [
       "10.455465808984654"
      ]
     },
     "execution_count": 38,
     "metadata": {},
     "output_type": "execute_result"
    }
   ],
   "source": [
    "RMSE_B_C = data_1['RSE_B_C'].sum(axis = 0)/100\n",
    "Q = RMSE_B_C**0.5\n",
    "Q"
   ]
  },
  {
   "cell_type": "code",
   "execution_count": 40,
   "id": "d3aa16f8",
   "metadata": {},
   "outputs": [
    {
     "data": {
      "image/png": "[encoded data removed]",
      "text/plain": [
       "<Figure size 640x480 with 1 Axes>"
      ]
     },
     "metadata": {},
     "output_type": "display_data"
    }
   ],
   "source": [
    "sns.lineplot(data = data_1[['A','B','C']])\n",
    "plt.show()"
   ]
  },
  {
   "cell_type": "code",
   "execution_count": 41,
   "id": "1a6046a0",
   "metadata": {},
   "outputs": [
    {
     "data": {
      "image/png": "[encoded data removed]",
      "text/plain": [
       "<Figure size 800x500 with 1 Axes>"
      ]
     },
     "metadata": {},
     "output_type": "display_data"
    }
   ],
   "source": [
    "#Bland-Altman plots\n",
    "import statsmodels.api as sm\n",
    "f, ax = plt.subplots(1, figsize = (8,5))\n",
    "sm.graphics.mean_diff_plot(data_1.A, data_1.C, ax = ax)\n",
    "plt.show()"
   ]
  },
  {
   "cell_type": "code",
   "execution_count": 42,
   "id": "ad020172",
   "metadata": {},
   "outputs": [
    {
     "data": {
      "image/png": "[encoded data removed]",
      "text/plain": [
       "<Figure size 800x500 with 1 Axes>"
      ]
     },
     "metadata": {},
     "output_type": "display_data"
    }
   ],
   "source": [
    "f, ax = plt.subplots(1, figsize = (8,5))\n",
    "sm.graphics.mean_diff_plot(data_1.B, data_1.C, ax = ax)\n",
    "plt.show()"
   ]
  },
  {
   "cell_type": "code",
   "execution_count": 44,
   "id": "f03ef88a",
   "metadata": {},
   "outputs": [
    {
     "name": "stdout",
     "output_type": "stream",
     "text": [
      "Pearsons correlation: 0.123\n",
      "Pearsons correlation: 0.777\n"
     ]
    }
   ],
   "source": [
    "from scipy.stats import pearsonr\n",
    "list1 = data_1['A']\n",
    "list2 = data_1['C']\n",
    "list3 = data_1['B']\n",
    "corr, _ = pearsonr(list1, list2)\n",
    "corr_1, _ = pearsonr(list3, list2)\n",
    "print('Pearsons correlation: %.3f' % corr)\n",
    "print('Pearsons correlation: %.3f' % corr_1)"
   ]
  },
  {
   "cell_type": "code",
   "execution_count": 45,
   "id": "001ab97d",
   "metadata": {},
   "outputs": [
    {
     "name": "stdout",
     "output_type": "stream",
     "text": [
      "Collecting nilearn\n",
      "  Downloading nilearn-0.10.1-py3-none-any.whl (10.3 MB)\n",
      "     ---------------------------------------- 10.3/10.3 MB 4.4 MB/s eta 0:00:00\n",
      "Requirement already satisfied: scikit-learn>=1.0.0 in c:\\anaconda\\lib\\site-packages (from nilearn) (1.0.2)\n",
      "Requirement already satisfied: lxml in c:\\anaconda\\lib\\site-packages (from nilearn) (4.9.1)\n",
      "Requirement already satisfied: numpy>=1.19.0 in c:\\anaconda\\lib\\site-packages (from nilearn) (1.21.5)\n",
      "Requirement already satisfied: joblib>=1.0.0 in c:\\anaconda\\lib\\site-packages (from nilearn) (1.1.0)\n",
      "Requirement already satisfied: scipy>=1.6.0 in c:\\anaconda\\lib\\site-packages (from nilearn) (1.9.1)\n",
      "Requirement already satisfied: pandas>=1.1.5 in c:\\anaconda\\lib\\site-packages (from nilearn) (1.4.4)\n",
      "Requirement already satisfied: packaging in c:\\anaconda\\lib\\site-packages (from nilearn) (21.3)\n",
      "Collecting nibabel>=3.2.0\n",
      "  Downloading nibabel-5.1.0-py3-none-any.whl (3.3 MB)\n",
      "     ---------------------------------------- 3.3/3.3 MB 7.8 MB/s eta 0:00:00\n",
      "Requirement already satisfied: requests>=2.25.0 in c:\\anaconda\\lib\\site-packages (from nilearn) (2.28.1)\n",
      "Requirement already satisfied: pyparsing!=3.0.5,>=2.0.2 in c:\\anaconda\\lib\\site-packages (from packaging->nilearn) (3.0.9)\n",
      "Requirement already satisfied: python-dateutil>=2.8.1 in c:\\anaconda\\lib\\site-packages (from pandas>=1.1.5->nilearn) (2.8.2)\n",
      "Requirement already satisfied: pytz>=2020.1 in c:\\anaconda\\lib\\site-packages (from pandas>=1.1.5->nilearn) (2022.1)\n",
      "Requirement already satisfied: urllib3<1.27,>=1.21.1 in c:\\anaconda\\lib\\site-packages (from requests>=2.25.0->nilearn) (1.26.11)\n",
      "Requirement already satisfied: certifi>=2017.4.17 in c:\\anaconda\\lib\\site-packages (from requests>=2.25.0->nilearn) (2022.9.14)\n",
      "Requirement already satisfied: charset-normalizer<3,>=2 in c:\\anaconda\\lib\\site-packages (from requests>=2.25.0->nilearn) (2.0.4)\n",
      "Requirement already satisfied: idna<4,>=2.5 in c:\\anaconda\\lib\\site-packages (from requests>=2.25.0->nilearn) (3.3)\n",
      "Requirement already satisfied: threadpoolctl>=2.0.0 in c:\\anaconda\\lib\\site-packages (from scikit-learn>=1.0.0->nilearn) (2.2.0)\n",
      "Requirement already satisfied: six>=1.5 in c:\\anaconda\\lib\\site-packages (from python-dateutil>=2.8.1->pandas>=1.1.5->nilearn) (1.16.0)\n",
      "Installing collected packages: nibabel, nilearn\n",
      "Successfully installed nibabel-5.1.0 nilearn-0.10.1\n"
     ]
    }
   ],
   "source": [
    "!pip install -U nilearn"
   ]
  },
  {
   "cell_type": "code",
   "execution_count": null,
   "id": "b9910235",
   "metadata": {},
   "outputs": [],
   "source": [
    "!pip uninstall -U nilearn"
   ]
  },
  {
   "cell_type": "code",
   "execution_count": null,
   "id": "897512c3",
   "metadata": {},
   "outputs": [],
   "source": []
  },
  {
   "cell_type": "code",
   "execution_count": null,
   "id": "89d1ca40",
   "metadata": {},
   "outputs": [],
   "source": []
  },
  {
   "cell_type": "code",
   "execution_count": null,
   "id": "c5df503b",
   "metadata": {},
   "outputs": [],
   "source": []
  },
  {
   "cell_type": "code",
   "execution_count": null,
   "id": "97ed7848",
   "metadata": {},
   "outputs": [],
   "source": []
  },
  {
   "cell_type": "code",
   "execution_count": null,
   "id": "a993adb4",
   "metadata": {},
   "outputs": [],
   "source": [
    "!pip install nistats"
   ]
  },
  {
   "cell_type": "code",
   "execution_count": null,
   "id": "81d78ef8",
   "metadata": {},
   "outputs": [],
   "source": [
    "from nistats import design_matrix, FirstLevelModel"
   ]
  },
  {
   "cell_type": "code",
   "execution_count": null,
   "id": "f38a140f",
   "metadata": {},
   "outputs": [],
   "source": [
    "percentage = data1['Percentage of gait cycle']\n",
    "software_A = data1['A']\n",
    "software_B = data1['B']\n",
    "software_C = data1['C']\n",
    "model = FirstLevelModel()\n",
    "model.fit(percentage, design_matrix=design_matrix)"
   ]
  },
  {
   "cell_type": "code",
   "execution_count": null,
   "id": "270f6af4",
   "metadata": {},
   "outputs": [],
   "source": [
    "contrast = ['Software_A', 'Software_B']  # Example contrast between Software A and Software B\n",
    "z_image = model.compute_contrast(contrast)"
   ]
  },
  {
   "cell_type": "code",
   "execution_count": null,
   "id": "85221e67",
   "metadata": {},
   "outputs": [],
   "source": []
  }
 ],
 "metadata": {
  "kernelspec": {
   "display_name": "Python 3 (ipykernel)",
   "language": "python",
   "name": "python3"
  },
  "language_info": {
   "codemirror_mode": {
    "name": "ipython",
    "version": 3
   },
   "file_extension": ".py",
   "mimetype": "text/x-python",
   "name": "python",
   "nbconvert_exporter": "python",
   "pygments_lexer": "ipython3",
   "version": "3.9.13"
  }
 },
 "nbformat": 4,
 "nbformat_minor": 5
}
